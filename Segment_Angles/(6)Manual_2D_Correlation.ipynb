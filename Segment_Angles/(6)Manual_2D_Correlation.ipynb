{
 "cells": [
  {
   "cell_type": "code",
   "execution_count": 6,
   "id": "c59aa0a9",
   "metadata": {},
   "outputs": [],
   "source": [
    "from numpy import mean\n",
    "from numpy import std\n",
    "import numpy as np\n",
    "from matplotlib import pyplot\n",
    "import matplotlib.pyplot as plt\n",
    "from pandas import DataFrame\n",
    "import pandas as pd\n",
    "from sklearn.linear_model import LinearRegression\n"
   ]
  },
  {
   "cell_type": "code",
   "execution_count": 7,
   "id": "ad02852e",
   "metadata": {
    "scrolled": true
   },
   "outputs": [
    {
     "name": "stdout",
     "output_type": "stream",
     "text": [
      "                               Manual_Data  Median\n",
      "0  1-12-21_MI_112-052-4601-1_2021-01-12_14    46.8\n",
      "1   1-12-21_MI_112-053-623-2_2021-01-12_14    16.9\n",
      "2   1-12-21_MI_112-055-623-3_2021-01-12_14    16.8\n",
      "3   1-12-21_MI_112-057-623-4_2021-01-12_14    15.4\n",
      "4  1-12-21_MI_112-058-4601-4_2021-01-12_14    43.9\n",
      "5  1-12-21_MI_112-060-4601-5_2021-01-12_14    44.5\n",
      "                              PlantCV_Data     Median\n",
      "0  1-12-21_MI_112-052-4601-1_2021-01-12_14  58.253183\n",
      "1   1-12-21_MI_112-053-623-2_2021-01-12_14  28.741311\n",
      "2   1-12-21_MI_112-055-623-3_2021-01-12_14  28.960257\n",
      "3   1-12-21_MI_112-057-623-4_2021-01-12_14  31.742707\n",
      "4  1-12-21_MI_112-058-4601-4_2021-01-12_14  52.480889\n",
      "5  1-12-21_MI_112-060-4601-5_2021-01-12_14  53.011052\n"
     ]
    }
   ],
   "source": [
    "data1 = pd.read_csv('/home/schnablelab/Downloads/Manual_DataMedian60.csv')\n",
    "data2 = pd.read_csv('/home/schnablelab/Downloads/PlantCV_DataMedian60.csv')\n",
    "print(data1)\n",
    "print(data2)\n"
   ]
  },
  {
   "cell_type": "code",
   "execution_count": 18,
   "id": "34e800d8",
   "metadata": {},
   "outputs": [],
   "source": [
    "r2 = []\n",
    "\n",
    "#correlation between the median\n",
    "correlation_matrix = np.corrcoef(data1['Median'], data2['Median'])\n",
    "\n",
    "correlation_xy = correlation_matrix[0, 1]\n",
    "r_squared = correlation_xy**2\n",
    "\n",
    "r2.append(r_squared)\n",
    "\n",
    "######################################################################################################################\n",
    "\n",
    "r = []\n",
    "\n",
    "#correlation between median\n",
    "correlation_matrix = np.corrcoef(data1['Median'], data2['Median'])\n",
    "\n",
    "correlation_xy = correlation_matrix[0, 1]\n",
    "r_median = correlation_xy\n",
    "\n",
    "r.append(r_median)\n",
    "\n",
    "######################################################################################################################\n",
    "\n",
    "r2 = round(r2[0],4)\n"
   ]
  },
  {
   "cell_type": "code",
   "execution_count": 30,
   "id": "6a90a77e",
   "metadata": {},
   "outputs": [
    {
     "name": "stderr",
     "output_type": "stream",
     "text": [
      "/home/schnablelab/.local/lib/python3.8/site-packages/seaborn/_decorators.py:36: FutureWarning: Pass the following variables as keyword args: x, y. From version 0.12, the only valid positional argument will be `data`, and passing other arguments without an explicit keyword will result in an error or misinterpretation.\n",
      "  warnings.warn(\n"
     ]
    },
    {
     "data": {
      "text/plain": [
       "Text(0, 0.5, 'Manual')"
      ]
     },
     "execution_count": 30,
     "metadata": {},
     "output_type": "execute_result"
    },
    {
     "data": {
      "image/png": "[encoded data removed]",
      "text/plain": [
       "<Figure size 432x288 with 1 Axes>"
      ]
     },
     "metadata": {},
     "output_type": "display_data"
    }
   ],
   "source": [
    "import seaborn as sns\n",
    "\n",
    "df = plt.scatter(data1['Median'], data2['Median'])\n",
    "plt.title('Correlation of Median Leaf Values', size = 19)\n",
    "plt.text(16, 56, r2, fontsize=20)\n",
    "plt.plot(data1['Median'], data2['Median'], 'o', color = 'blue')\n",
    "plt.style.use('ggplot')\n",
    "m, b = np.polyfit(data1['Median'], data2['Median'], 1)\n",
    "plt.plot(data1['Median'], m*data1['Median'] + b)\n",
    "\n",
    "sns.regplot(data1['Median'], data2['Median'], ci = 80, truncate=False)\n",
    "plt.xlabel('2D Images', size = 18)\n",
    "plt.ylabel('Manual', size = 18)\n"
   ]
  },
  {
   "cell_type": "code",
   "execution_count": 5,
   "id": "026c7885",
   "metadata": {},
   "outputs": [
    {
     "data": {
      "text/plain": [
       "[0.9803511765797011]"
      ]
     },
     "execution_count": 5,
     "metadata": {},
     "output_type": "execute_result"
    }
   ],
   "source": [
    "r2\n"
   ]
  },
  {
   "cell_type": "code",
   "execution_count": 6,
   "id": "6f2fb6c9",
   "metadata": {},
   "outputs": [
    {
     "data": {
      "text/plain": [
       "[0.9901268487318688]"
      ]
     },
     "execution_count": 6,
     "metadata": {},
     "output_type": "execute_result"
    }
   ],
   "source": [
    "r\n"
   ]
  }
 ],
 "metadata": {
  "kernelspec": {
   "display_name": "Python 3 (ipykernel)",
   "language": "python",
   "name": "python3"
  },
  "language_info": {
   "codemirror_mode": {
    "name": "ipython",
    "version": 3
   },
   "file_extension": ".py",
   "mimetype": "text/x-python",
   "name": "python",
   "nbconvert_exporter": "python",
   "pygments_lexer": "ipython3",
   "version": "3.8.10"
  }
 },
 "nbformat": 4,
 "nbformat_minor": 5
}
